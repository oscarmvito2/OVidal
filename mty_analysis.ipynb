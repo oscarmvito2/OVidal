{
 "cells": [
  {
   "cell_type": "code",
   "execution_count": 1,
   "id": "1575b903-327b-4347-9ff5-e34635a339e5",
   "metadata": {},
   "outputs": [
    {
     "name": "stderr",
     "output_type": "stream",
     "text": [
      "/Users/ricalanis/anaconda3/lib/python3.7/site-packages/pandas/compat/_optional.py:138: UserWarning: Pandas requires version '2.7.0' or newer of 'numexpr' (version '2.6.9' currently installed).\n",
      "  warnings.warn(msg, UserWarning)\n"
     ]
    }
   ],
   "source": [
    "import pandas as pd"
   ]
  },
  {
   "cell_type": "code",
   "execution_count": 3,
   "id": "4551f780-3b14-4299-a5e4-fef3378751d9",
   "metadata": {},
   "outputs": [
    {
     "name": "stdout",
     "output_type": "stream",
     "text": [
      "Archive:  data.csv.zip\n",
      "  inflating: data.csv                \n",
      "  inflating: __MACOSX/._data.csv     \n"
     ]
    }
   ],
   "source": [
    "!unzip data.csv.zip"
   ]
  },
  {
   "cell_type": "code",
   "execution_count": 4,
   "id": "52af3c5f-fd94-45aa-afbb-a8cfc21d950e",
   "metadata": {},
   "outputs": [
    {
     "name": "stderr",
     "output_type": "stream",
     "text": [
      "/Users/ricalanis/anaconda3/lib/python3.7/site-packages/IPython/core/interactiveshell.py:3296: DtypeWarning: Columns (9,12,13,16,21,28,32,33,34,35,36,37,40,41,42,43,44,45,46,49) have mixed types.Specify dtype option on import or set low_memory=False.\n",
      "  exec(code_obj, self.user_global_ns, self.user_ns)\n"
     ]
    }
   ],
   "source": [
    "data_df = pd.read_csv('data.csv')"
   ]
  },
  {
   "cell_type": "code",
   "execution_count": 7,
   "id": "8a1e8105-934f-4e56-9922-5dc5084dfed1",
   "metadata": {},
   "outputs": [
    {
     "data": {
      "text/plain": [
       "MORONES PRIETO      1729\n",
       "LAZARO CARDENAS     1279\n",
       "GONZALITOS          1229\n",
       "GARZA SADA          1215\n",
       "ALFONSO REYES       1153\n",
       "JOSE VASCONCELOS     964\n",
       "LEONES               891\n",
       "AV. LINCOLN          838\n",
       "CONSTITUCION         823\n",
       "FIDEL VELAZQUEZ      752\n",
       "Name: Calle, dtype: int64"
      ]
     },
     "execution_count": 7,
     "metadata": {},
     "output_type": "execute_result"
    }
   ],
   "source": [
    "data_df['Calle'].value_counts()[0:10]"
   ]
  },
  {
   "cell_type": "code",
   "execution_count": 8,
   "id": "c1de290e-0a43-4ada-8254-c7b97bd659f4",
   "metadata": {},
   "outputs": [
    {
     "data": {
      "text/plain": [
       "Index(['Column', 'Calle', 'Causa', 'Ciudad', 'Cruce', 'Fecha', 'Hora', 'ID',\n",
       "       'Latitud', 'Lesionados', 'Longitud', 'Mes', 'Muertos',\n",
       "       'No. De Infracción', 'Número  total de lesionados',\n",
       "       'Número total de muertos', 'Por alcohol', 'Sentido',\n",
       "       'Situación climática', 'Situación del Pavimento', 'Tipo de incidente',\n",
       "       'Tipo de involucrado', 'Tipo de vía', 'V1_Arresto', 'V1_Dictamen',\n",
       "       'V1_Edad', 'V1_Estatus Licencia', 'V1_Género', 'V1_No. De Fallecidos',\n",
       "       'V1_No. De Lesionados', 'V1_Tipo de Vehículo', 'V1_Uso de Cinturón',\n",
       "       'V2_Arresto', 'V2_Dictamen', 'V2_Edad', 'V2_Estatus Licencia',\n",
       "       'V2_Género', 'V2_No. De Fallecidos', 'V2_No. De Lesionados',\n",
       "       'V2_Tipo de Vehículo', 'V2_Uso de Cinturón', 'V3_Arresto',\n",
       "       'V3_Dictamen', 'V3_Edad', 'V3_Estatus Licencia', 'V3_Género',\n",
       "       'V3_No. De Fallecidos', 'V3_No. De Lesionados', 'V3_Tipo de Vehículo',\n",
       "       'V3_Uso de Cinturón'],\n",
       "      dtype='object')"
      ]
     },
     "execution_count": 8,
     "metadata": {},
     "output_type": "execute_result"
    }
   ],
   "source": [
    "data_df.columns"
   ]
  },
  {
   "cell_type": "code",
   "execution_count": 27,
   "id": "3f4aa77a-39bd-4b00-93bf-027162bde516",
   "metadata": {},
   "outputs": [],
   "source": [
    "import numpy as np"
   ]
  },
  {
   "cell_type": "code",
   "execution_count": 28,
   "id": "ba35d3bd-c0d0-408e-8b26-aa0294398a8e",
   "metadata": {},
   "outputs": [
    {
     "data": {
      "text/plain": [
       "nan"
      ]
     },
     "execution_count": 28,
     "metadata": {},
     "output_type": "execute_result"
    }
   ],
   "source": [
    "np.nan"
   ]
  },
  {
   "cell_type": "code",
   "execution_count": 29,
   "id": "5f81d5c7-7db9-44f7-8a95-0b18fbc0ef64",
   "metadata": {},
   "outputs": [],
   "source": [
    "def convert_to_number(x):\n",
    "    try:\n",
    "        return float(x)\n",
    "    except:\n",
    "        return np.nan\n",
    "    return x"
   ]
  },
  {
   "cell_type": "code",
   "execution_count": 32,
   "id": "fa584787-7fc1-437f-9236-b5c3938c1cb1",
   "metadata": {},
   "outputs": [
    {
     "data": {
      "text/plain": [
       "<AxesSubplot:>"
      ]
     },
     "execution_count": 32,
     "metadata": {},
     "output_type": "execute_result"
    },
    {
     "data": {
      "image/png": "[encoded data removed]",
      "text/plain": [
       "<Figure size 432x288 with 1 Axes>"
      ]
     },
     "metadata": {
      "needs_background": "light"
     },
     "output_type": "display_data"
    }
   ],
   "source": [
    "data_df['V1_Edad'].apply(convert_to_number).hist()"
   ]
  },
  {
   "cell_type": "code",
   "execution_count": 41,
   "id": "de46f605-834b-48d6-bf7e-a8a6b26adb27",
   "metadata": {},
   "outputs": [
    {
     "data": {
      "text/plain": [
       "No    428\n",
       "Sí     82\n",
       "Name: Por alcohol, dtype: int64"
      ]
     },
     "execution_count": 41,
     "metadata": {},
     "output_type": "execute_result"
    }
   ],
   "source": [
    "data_df[data_df['Calle'] == 'GARZA SADA']['Por alcohol'].value_counts()"
   ]
  },
  {
   "cell_type": "code",
   "execution_count": 42,
   "id": "90bd0745-1a54-4c16-be7d-8104c83ee5d5",
   "metadata": {},
   "outputs": [
    {
     "data": {
      "text/plain": [
       "510"
      ]
     },
     "execution_count": 42,
     "metadata": {},
     "output_type": "execute_result"
    }
   ],
   "source": [
    "sum(data_df[data_df['Calle'] == 'GARZA SADA']['Por alcohol'].value_counts())"
   ]
  },
  {
   "cell_type": "code",
   "execution_count": 43,
   "id": "9c2965ab-d635-4d3b-a3dd-22337c304390",
   "metadata": {},
   "outputs": [
    {
     "data": {
      "text/plain": [
       "No    0.839216\n",
       "Sí    0.160784\n",
       "Name: Por alcohol, dtype: float64"
      ]
     },
     "execution_count": 43,
     "metadata": {},
     "output_type": "execute_result"
    }
   ],
   "source": [
    "data_df[data_df['Calle'] == 'GARZA SADA']['Por alcohol'].value_counts()/sum(data_df[data_df['Calle'] == 'GARZA SADA']['Por alcohol'].value_counts())"
   ]
  },
  {
   "cell_type": "code",
   "execution_count": null,
   "id": "c4474e75-34f3-4b6a-a5a8-8eb828805bbe",
   "metadata": {},
   "outputs": [],
   "source": []
  }
 ],
 "metadata": {
  "kernelspec": {
   "display_name": "Python 3 (ipykernel)",
   "language": "python",
   "name": "python3"
  },
  "language_info": {
   "codemirror_mode": {
    "name": "ipython",
    "version": 3
   },
   "file_extension": ".py",
   "mimetype": "text/x-python",
   "name": "python",
   "nbconvert_exporter": "python",
   "pygments_lexer": "ipython3",
   "version": "3.9.12"
  }
 },
 "nbformat": 4,
 "nbformat_minor": 5
}
