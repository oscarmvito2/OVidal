{
 "cells": [
  {
   "cell_type": "code",
   "execution_count": 1,
   "id": "1575b903-327b-4347-9ff5-e34635a339e5",
   "metadata": {},
   "outputs": [],
   "source": [
    "#Importamo las librerías a utilizar\n",
    "import pandas as pd\n",
    "import matplotlib.pyplot as plt\n",
    "import seaborn as sns\n",
    "import numpy as np\n",
    "from scipy.stats import norm\n",
    "from sklearn.preprocessing import StandardScaler\n",
    "from scipy import stats\n",
    "import warnings\n",
    "import matplotlib.pyplot as plt \n",
    "warnings.filterwarnings('ignore') # Para evitar avisos.\n",
    "%matplotlib inline"
   ]
  },
  {
   "cell_type": "code",
   "execution_count": 2,
   "id": "52af3c5f-fd94-45aa-afbb-a8cfc21d950e",
   "metadata": {},
   "outputs": [],
   "source": [
    "#Cargamos los datos del archivo separado por comas\n",
    "data_df = pd.read_csv('data.csv')"
   ]
  },
  {
   "cell_type": "markdown",
   "id": "a525bc7b-dba8-4ba1-9e6f-de5ca14153b5",
   "metadata": {},
   "source": [
    "# 1. Which roads \"appear to be\" the top 10 most dangerous roads of Monterrey Metropolitan area?"
   ]
  },
  {
   "cell_type": "code",
   "execution_count": 3,
   "id": "8a1e8105-934f-4e56-9922-5dc5084dfed1",
   "metadata": {},
   "outputs": [
    {
     "data": {
      "text/plain": [
       "MORONES PRIETO      1729\n",
       "LAZARO CARDENAS     1279\n",
       "GONZALITOS          1229\n",
       "GARZA SADA          1215\n",
       "ALFONSO REYES       1153\n",
       "JOSE VASCONCELOS     964\n",
       "LEONES               891\n",
       "AV. LINCOLN          838\n",
       "CONSTITUCION         823\n",
       "FIDEL VELAZQUEZ      752\n",
       "Name: Calle, dtype: int64"
      ]
     },
     "execution_count": 3,
     "metadata": {},
     "output_type": "execute_result"
    }
   ],
   "source": [
    "#seleccionamos las 10 calles que aparecen con más frecuencia\n",
    "data_df['Calle'].value_counts()[0:10]"
   ]
  },
  {
   "cell_type": "code",
   "execution_count": 10,
   "id": "7ff0dff3-8dd5-4af6-91a2-6fd2a3f87dbf",
   "metadata": {},
   "outputs": [
    {
     "data": {
      "text/plain": [
       "<AxesSubplot:>"
      ]
     },
     "execution_count": 10,
     "metadata": {},
     "output_type": "execute_result"
    },
    {
     "data": {
      "image/png": "[encoded data removed]",
      "text/plain": [
       "<Figure size 432x288 with 1 Axes>"
      ]
     },
     "metadata": {
      "needs_background": "light"
     },
     "output_type": "display_data"
    }
   ],
   "source": [
    "#Para mayor claridad desplegamos una gráfica con la información de las 10 calles que aparecen \n",
    "# más frecuentememte en el archivo\n",
    "data_df['Calle'].value_counts()[0:10].plot(kind='bar')"
   ]
  },
  {
   "cell_type": "markdown",
   "id": "7248c684-4bb8-4133-b2c5-bd8da603712e",
   "metadata": {},
   "source": [
    "# 2. What's the age group with the overall highest number of reported colisions? You can consider any age groupings for the purposes of this question. Explain this in a graphical way.\n"
   ]
  },
  {
   "cell_type": "raw",
   "id": "324c9527-e816-4793-aa5a-a0008205b692",
   "metadata": {},
   "source": []
  },
  {
   "cell_type": "code",
   "execution_count": 11,
   "id": "c1de290e-0a43-4ada-8254-c7b97bd659f4",
   "metadata": {},
   "outputs": [
    {
     "data": {
      "text/plain": [
       "Index(['Column', 'Calle', 'Causa', 'Ciudad', 'Cruce', 'Fecha', 'Hora', 'ID',\n",
       "       'Latitud', 'Lesionados', 'Longitud', 'Mes', 'Muertos',\n",
       "       'No. De Infracción', 'Número  total de lesionados',\n",
       "       'Número total de muertos', 'Por alcohol', 'Sentido',\n",
       "       'Situación climática', 'Situación del Pavimento', 'Tipo de incidente',\n",
       "       'Tipo de involucrado', 'Tipo de vía', 'V1_Arresto', 'V1_Dictamen',\n",
       "       'V1_Edad', 'V1_Estatus Licencia', 'V1_Género', 'V1_No. De Fallecidos',\n",
       "       'V1_No. De Lesionados', 'V1_Tipo de Vehículo', 'V1_Uso de Cinturón',\n",
       "       'V2_Arresto', 'V2_Dictamen', 'V2_Edad', 'V2_Estatus Licencia',\n",
       "       'V2_Género', 'V2_No. De Fallecidos', 'V2_No. De Lesionados',\n",
       "       'V2_Tipo de Vehículo', 'V2_Uso de Cinturón', 'V3_Arresto',\n",
       "       'V3_Dictamen', 'V3_Edad', 'V3_Estatus Licencia', 'V3_Género',\n",
       "       'V3_No. De Fallecidos', 'V3_No. De Lesionados', 'V3_Tipo de Vehículo',\n",
       "       'V3_Uso de Cinturón'],\n",
       "      dtype='object')"
      ]
     },
     "execution_count": 11,
     "metadata": {},
     "output_type": "execute_result"
    }
   ],
   "source": [
    "#Obtenemos los nombres de las columnas para identificar con cual de ellas trabajar\n",
    "data_df.columns"
   ]
  },
  {
   "cell_type": "code",
   "execution_count": null,
   "id": "3f4aa77a-39bd-4b00-93bf-027162bde516",
   "metadata": {},
   "outputs": [],
   "source": [
    "#Seleccionaremos la columan V1_Edad que es la que nos proporciona la información del primer vehículo\n",
    "# involucrado en el accidente\n",
    "#preparamos función para convertir a números los valores de la columna V1_Edad.\n",
    "import numpy as np"
   ]
  },
  {
   "cell_type": "code",
   "execution_count": 12,
   "id": "ba35d3bd-c0d0-408e-8b26-aa0294398a8e",
   "metadata": {},
   "outputs": [
    {
     "data": {
      "text/plain": [
       "nan"
      ]
     },
     "execution_count": 12,
     "metadata": {},
     "output_type": "execute_result"
    }
   ],
   "source": [
    "np.nan"
   ]
  },
  {
   "cell_type": "code",
   "execution_count": 13,
   "id": "5f81d5c7-7db9-44f7-8a95-0b18fbc0ef64",
   "metadata": {},
   "outputs": [],
   "source": [
    "def convert_to_number(x):\n",
    "    try:\n",
    "        return float(x)\n",
    "    except:\n",
    "        return np.nan\n",
    "    return x"
   ]
  },
  {
   "cell_type": "code",
   "execution_count": 15,
   "id": "faf66820-0573-4d6c-9de4-6fa630c7ca66",
   "metadata": {},
   "outputs": [
    {
     "data": {
      "text/plain": [
       "0         NaN\n",
       "1        57.0\n",
       "2        34.0\n",
       "3        27.0\n",
       "4        39.0\n",
       "         ... \n",
       "55008    69.0\n",
       "55009    70.0\n",
       "55010    19.0\n",
       "55011    15.0\n",
       "55012    45.0\n",
       "Name: V1_Edad, Length: 55013, dtype: float64"
      ]
     },
     "execution_count": 15,
     "metadata": {},
     "output_type": "execute_result"
    }
   ],
   "source": [
    "data_df['V1_Edad'].apply(convert_to_number)\n"
   ]
  },
  {
   "cell_type": "code",
   "execution_count": 14,
   "id": "fa584787-7fc1-437f-9236-b5c3938c1cb1",
   "metadata": {},
   "outputs": [
    {
     "data": {
      "text/plain": [
       "<AxesSubplot:>"
      ]
     },
     "execution_count": 14,
     "metadata": {},
     "output_type": "execute_result"
    },
    {
     "data": {
      "image/png": "[encoded data removed]",
      "text/plain": [
       "<Figure size 432x288 with 1 Axes>"
      ]
     },
     "metadata": {
      "needs_background": "light"
     },
     "output_type": "display_data"
    }
   ],
   "source": [
    "#A través del histograma podemos ver el rango de edades\n",
    "#Se pudo observar que la calidad de la información no es la mejor, ya que hay varios registros donde la edad\n",
    "#no estaba disponible\n",
    "data_df['V1_Edad'].apply(convert_to_number).hist()"
   ]
  },
  {
   "cell_type": "markdown",
   "id": "2dcff82a-85b1-408f-bf64-4d137b400677",
   "metadata": {},
   "source": [
    "# 3. If you were to see a collision in the \"Garza Sada\" road, What would be the odds for that person to have any type of positive alcohol ingestion opinion?"
   ]
  },
  {
   "cell_type": "code",
   "execution_count": 16,
   "id": "de46f605-834b-48d6-bf7e-a8a6b26adb27",
   "metadata": {},
   "outputs": [
    {
     "data": {
      "text/plain": [
       "No    428\n",
       "Sí     82\n",
       "Name: Por alcohol, dtype: int64"
      ]
     },
     "execution_count": 16,
     "metadata": {},
     "output_type": "execute_result"
    }
   ],
   "source": [
    "#Primero fitramos el número de accidentes que hubo en la calle Garza Sada y en lo cuales el alcohol \n",
    "# influyó en el accidente. \n",
    "#Para eso lo filtramos por las columnas Calle y Por alcohol\n",
    "#Esto nos dara el número de accidente que tuvieron que ver con alcohol en está calle.\n",
    "data_df[data_df['Calle'] == 'GARZA SADA']['Por alcohol'].value_counts()"
   ]
  },
  {
   "cell_type": "code",
   "execution_count": 17,
   "id": "90bd0745-1a54-4c16-be7d-8104c83ee5d5",
   "metadata": {},
   "outputs": [
    {
     "data": {
      "text/plain": [
       "510"
      ]
     },
     "execution_count": 17,
     "metadata": {},
     "output_type": "execute_result"
    }
   ],
   "source": [
    "#Sumamos el total de resultados.\n",
    "sum(data_df[data_df['Calle'] == 'GARZA SADA']['Por alcohol'].value_counts())"
   ]
  },
  {
   "cell_type": "code",
   "execution_count": 18,
   "id": "9c2965ab-d635-4d3b-a3dd-22337c304390",
   "metadata": {},
   "outputs": [
    {
     "data": {
      "text/plain": [
       "No    0.839216\n",
       "Sí    0.160784\n",
       "Name: Por alcohol, dtype: float64"
      ]
     },
     "execution_count": 18,
     "metadata": {},
     "output_type": "execute_result"
    }
   ],
   "source": [
    "#Calculando la probabilidad\n",
    "data_df[data_df['Calle'] == 'GARZA SADA']['Por alcohol'].value_counts()/sum(data_df[data_df['Calle'] == 'GARZA SADA']['Por alcohol'].value_counts())"
   ]
  },
  {
   "cell_type": "raw",
   "id": "5392b674-85ba-407c-966d-377661f83ff0",
   "metadata": {},
   "source": [
    "La probabilidad es del: \n"
   ]
  },
  {
   "cell_type": "code",
   "execution_count": 19,
   "id": "0e30e8f3-661b-4d80-9696-6806012cf04c",
   "metadata": {},
   "outputs": [
    {
     "data": {
      "text/plain": [
       "16.078400000000002"
      ]
     },
     "execution_count": 19,
     "metadata": {},
     "output_type": "execute_result"
    }
   ],
   "source": [
    "0.160784*100"
   ]
  },
  {
   "cell_type": "markdown",
   "id": "3898abee-87c5-4c1d-b37d-142b52df9731",
   "metadata": {},
   "source": [
    "# 4. Why do you think we use the phrase \"appear to be\" in question 1? What would you need to be able to speak with more confidence about the answer to that question?\n"
   ]
  },
  {
   "cell_type": "markdown",
   "id": "81c688d9-f321-41f7-84a6-6cf2d68c05cf",
   "metadata": {},
   "source": [
    "Porque hay varios factores adicionales que necesitan tomarse en cuenta, como la precisión de la medición, por ejemplo hay datos que no se registraron correctamente, lo que impide que la informacón sea totalmente confiable.\n",
    "\n",
    "Otro factor importante es que no contamos con la información sobre los mapas de población, es decir no sabemos la densidad de población de las calles de que estamso hablando. Se desconce cuantas personas transitan en cada calle, no es lo mismo que en una calle muy transitada solo haya una fracción pequeña de accidentes, que en una calle poco transitada haya una gran cantidad de accidentes."
   ]
  },
  {
   "cell_type": "markdown",
   "id": "ef32414a-0beb-41af-b677-f693742eb5cf",
   "metadata": {},
   "source": [
    "# 5. What modelling project would you push to develop from the conclusions in this dataset?"
   ]
  },
  {
   "cell_type": "markdown",
   "id": "0a8bba0f-a301-4c92-89af-63b66a95709d",
   "metadata": {},
   "source": [
    "Para mi es importante trabajar en un modelo que muestre la relación de accidentes-alcohol. Estudiando este modelo podemos encontrar el número de accidentes relacionados al alcohol, los meses en que los accidentes aumentan, el número de lesionados y muertos donde el alcohol está involucrado, esto puede ayudar a implementar medidas que reduzcan los accidentes causados por alcohol"
   ]
  },
  {
   "cell_type": "code",
   "execution_count": null,
   "id": "44b620f4-4227-437a-981e-84a34c7cb1be",
   "metadata": {},
   "outputs": [],
   "source": []
  },
  {
   "cell_type": "code",
   "execution_count": null,
   "id": "588d125b-caff-4110-ad52-d8501cdd169a",
   "metadata": {},
   "outputs": [],
   "source": []
  }
 ],
 "metadata": {
  "kernelspec": {
   "display_name": "Python 3 (ipykernel)",
   "language": "python",
   "name": "python3"
  },
  "language_info": {
   "codemirror_mode": {
    "name": "ipython",
    "version": 3
   },
   "file_extension": ".py",
   "mimetype": "text/x-python",
   "name": "python",
   "nbconvert_exporter": "python",
   "pygments_lexer": "ipython3",
   "version": "3.9.12"
  }
 },
 "nbformat": 4,
 "nbformat_minor": 5
}
