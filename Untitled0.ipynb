{
  "nbformat": 4,
  "nbformat_minor": 0,
  "metadata": {
    "colab": {
      "provenance": [],
      "authorship_tag": "ABX9TyPomIxl36DV1M7f2YR3d9Nq",
      "include_colab_link": true
    },
    "kernelspec": {
      "name": "python3",
      "display_name": "Python 3"
    },
    "language_info": {
      "name": "python"
    }
  },
  "cells": [
    {
      "cell_type": "markdown",
      "metadata": {
        "id": "view-in-github",
        "colab_type": "text"
      },
      "source": [
        "<a href=\"https://colab.research.google.com/github/oscarmvito2/OVidal/blob/main/Untitled0.ipynb\" target=\"_parent\"><img src=\"https://colab.research.google.com/assets/colab-badge.svg\" alt=\"Open In Colab\"/></a>"
      ]
    },
    {
      "cell_type": "code",
      "execution_count": 2,
      "metadata": {
        "id": "00NeVAyGMVvS"
      },
      "outputs": [],
      "source": [
        "import numpy as np\n",
        "from matplotlib import pyplot as plt\n",
        "plt.rcParams['figure.figsize']= (12,6)\n",
        "plt.style.use('ggplot')"
      ]
    },
    {
      "cell_type": "code",
      "source": [
        "np.sqrt((8-3)**2 + (10-10.5)**2)"
      ],
      "metadata": {
        "colab": {
          "base_uri": "https://localhost:8080/"
        },
        "id": "y_EzbEHhM6Mx",
        "outputId": "4c42b581-7145-4b06-ed4b-333676dea312"
      },
      "execution_count": 3,
      "outputs": [
        {
          "output_type": "execute_result",
          "data": {
            "text/plain": [
              "5.024937810560445"
            ]
          },
          "metadata": {},
          "execution_count": 3
        }
      ]
    },
    {
      "cell_type": "code",
      "source": [
        "np.linalg.norm(np.array([8,10]) - np.array([3,10.5]))"
      ],
      "metadata": {
        "colab": {
          "base_uri": "https://localhost:8080/"
        },
        "id": "0_JnO7I4PNa4",
        "outputId": "ec63d276-6f45-45f2-af3f-a41556da61d1"
      },
      "execution_count": 4,
      "outputs": [
        {
          "output_type": "execute_result",
          "data": {
            "text/plain": [
              "5.024937810560445"
            ]
          },
          "metadata": {},
          "execution_count": 4
        }
      ]
    },
    {
      "cell_type": "code",
      "source": [
        "data = np.array([[8,10],[3,10.5],[7,13.5],[5,18],[5,13],[6,9],[9,11],[3,18],[8.5,12],[8,16]])\n",
        "C= np.array([[8,10],[3,10.5]])"
      ],
      "metadata": {
        "id": "ESCkGS2zUHCD"
      },
      "execution_count": 7,
      "outputs": []
    },
    {
      "cell_type": "code",
      "source": [
        "#almacenes auxiliares\n",
        "distances=[]\n",
        "clusters= np.zeros(len(data))\n",
        "\n",
        "def dist(a,b,ax=1):\n",
        "    return np.linalg.norm(a-b, axis =ax)\n",
        "\n",
        "for i in range(len(data)):\n",
        "    distance = dist(data[i],C)\n",
        "    distances.append(distance)\n",
        "    cluster = np.argmin(distance)\n",
        "    clusters[i] = cluster\n",
        "    \n",
        "print(clusters)\n",
        "#distances\n"
      ],
      "metadata": {
        "colab": {
          "base_uri": "https://localhost:8080/"
        },
        "id": "pUPNrGLuVwpv",
        "outputId": "5d2ee909-1f5c-4f78-ddb7-a0208ad449af"
      },
      "execution_count": 10,
      "outputs": [
        {
          "output_type": "stream",
          "name": "stdout",
          "text": [
            "[0. 1. 0. 1. 1. 0. 0. 1. 0. 0.]\n"
          ]
        }
      ]
    },
    {
      "cell_type": "code",
      "source": [
        "for i in range (len (C)):\n",
        "  points = [data[j] for j in range(len(data)) if clusters[j] == i ]\n",
        "  print(points)\n",
        "  C[i] = np.mean(points, axis = 0)\n",
        "\n",
        "  print (C)"
      ],
      "metadata": {
        "colab": {
          "base_uri": "https://localhost:8080/"
        },
        "id": "sWBwDPvZXUi3",
        "outputId": "7e9e4ad6-c95e-4ac9-e9f3-808c1e390e40"
      },
      "execution_count": 11,
      "outputs": [
        {
          "output_type": "stream",
          "name": "stdout",
          "text": [
            "[array([ 8., 10.]), array([ 7. , 13.5]), array([6., 9.]), array([ 9., 11.]), array([ 8.5, 12. ]), array([ 8., 16.])]\n",
            "[[ 7.75       11.91666667]\n",
            " [ 3.         10.5       ]]\n",
            "[array([ 3. , 10.5]), array([ 5., 18.]), array([ 5., 13.]), array([ 3., 18.])]\n",
            "[[ 7.75       11.91666667]\n",
            " [ 4.         14.875     ]]\n"
          ]
        }
      ]
    },
    {
      "cell_type": "code",
      "source": [],
      "metadata": {
        "id": "bTOPVaSoZFc0"
      },
      "execution_count": null,
      "outputs": []
    }
  ]
}